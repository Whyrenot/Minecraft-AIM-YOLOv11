{
  "nbformat": 4,
  "nbformat_minor": 0,
  "metadata": {
    "colab": {
      "provenance": []
    },
    "kernelspec": {
      "name": "python3",
      "display_name": "Python 3"
    },
    "language_info": {
      "name": "python"
    }
  },
  "cells": [
    {
      "cell_type": "code",
      "source": [
        "from roboflow import Roboflow\n",
        "from ultralytics import YOLO"
      ],
      "metadata": {
        "id": "cmmg8R2CA2UO"
      },
      "execution_count": null,
      "outputs": []
    },
    {
      "cell_type": "code",
      "source": [
        "rf = Roboflow(api_key=\"\")\n",
        "project = rf.workspace(\"first-708n1\").project(\"aimbotminecraft\")\n",
        "version = project.version(1)\n",
        "dataset = version.download(\"yolov11\")"
      ],
      "metadata": {
        "id": "msNCZwqqA4zA"
      },
      "execution_count": null,
      "outputs": []
    },
    {
      "cell_type": "code",
      "source": [
        "# Load a pretrained YOLO11n model\n",
        "model = YOLO(\"yolov11n.pt\")\n",
        "\n",
        "# Train the model on the COCO8 dataset for 100 epochs\n",
        "train_results = model.train(\n",
        "    data=\"aimbotMinecraft-1/data.yaml\",  # Path to dataset configuration file\n",
        "    epochs=100,  # Number of training epochs\n",
        "    imgsz=640,  # Image size for training\n",
        "    device=\"cuda\",  # Device to run on (e.g., 'cpu', 0, [0,1,2,3])\n",
        ")"
      ],
      "metadata": {
        "id": "0MwVMnEoA9fh"
      },
      "execution_count": null,
      "outputs": []
    },
    {
      "cell_type": "code",
      "source": [
        "import pyautogui\n",
        "import threading\n",
        "import cv2\n",
        "import mss\n",
        "import numpy as np\n",
        "from ultralytics import YOLO\n",
        "import time\n",
        "import keyboard\n",
        "import pygetwindow as gw"
      ],
      "metadata": {
        "id": "ZV52Ty5xBBoA"
      },
      "execution_count": null,
      "outputs": []
    },
    {
      "cell_type": "code",
      "execution_count": null,
      "metadata": {
        "id": "v1USZ5KEAzNO"
      },
      "outputs": [],
      "source": [
        "def get_window_rect(title_substring):\n",
        "    for window in gw.getWindowsWithTitle(title_substring):\n",
        "        if window.visible:\n",
        "            rect = window.left, window.top, window.width, window.height\n",
        "            return {\n",
        "                \"left\": rect[0],\n",
        "                \"top\": rect[1],\n",
        "                \"width\": rect[2],\n",
        "                \"height\": rect[3]\n",
        "            }\n",
        "    return None\n",
        "\n",
        "def aim_loop(window_name):\n",
        "    window_rect = get_window_rect(window_name)\n",
        "    while True:\n",
        "        with mss.mss() as sct:\n",
        "            img = np.array(sct.grab(window_rect))\n",
        "            img = cv2.cvtColor(img, cv2.COLOR_BGRA2BGR)\n",
        "\n",
        "            results = model(img, verbose=False)[0]\n",
        "\n",
        "            filtered_boxes = [box for box in results.boxes if box.conf[0] >= 0.5]\n",
        "\n",
        "            boxes = sorted(filtered_boxes, key=lambda box: (box.xyxy[0][2] - box.xyxy[0][0]) * (\n",
        "                    box.xyxy[0][3] - box.xyxy[0][1]), reverse=True)\n",
        "\n",
        "\n",
        "            for i in range(len(boxes)):\n",
        "                x1, y1, x2, y2 = map(int, boxes[i].xyxy[0])\n",
        "                target_x = (x1 + x2) // 2\n",
        "                target_y = (y1 + y2) // 2\n",
        "\n",
        "                conf = float(boxes[i].conf[0])\n",
        "                label = results.names[int(boxes[i].cls[0])]\n",
        "                cv2.rectangle(img, (x1, y1), (x2, y2), (0, 255, 0), 2)\n",
        "                if i == 0:\n",
        "                    cv2.putText(img, f\"{label} {conf:.2f} {target_x:.2f} { target_y:.2f}\", (x1, y1 - 5),\n",
        "                                cv2.FONT_HERSHEY_SIMPLEX, 0.5, (0, 0, 255), 2)\n",
        "                    if keyboard.is_pressed('j'):\n",
        "                        pyautogui.moveTo(target_x, target_y)\n",
        "                        pyautogui.click(target_x, target_y)\n",
        "                else:\n",
        "                    cv2.putText(img, f\"{label} {conf:.2f} {target_x:.2f} { target_y:.2f}\", (x1, y1 - 5),\n",
        "                                cv2.FONT_HERSHEY_SIMPLEX, 0.5, (0, 255, 0), 2)\n",
        "\n",
        "\n",
        "            cv2.imshow(\"YOLO Detection\", img)\n",
        "            if cv2.waitKey(1) == 27:\n",
        "                break\n",
        "\n",
        "    cv2.destroyAllWindows()\n",
        "\n",
        "model = YOLO(\"best.pt\")\n",
        "\n",
        "\n",
        "temp = \"Minecraft 1.20 - Multiplayer (3rd-party Server)\"\n",
        "print('Введите название окна для захвата: ', end='')\n",
        "window_name = input()\n",
        "threading.Thread(target=aim_loop(window_name), daemon=True).start()\n",
        "\n",
        "while True:\n",
        "    ...\n"
      ]
    }
  ]
}